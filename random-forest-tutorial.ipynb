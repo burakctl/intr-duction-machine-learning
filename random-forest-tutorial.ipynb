{
  "nbformat": 4,
  "nbformat_minor": 0,
  "metadata": {
    "colab": {
      "name": "Untitled0.ipynb",
      "provenance": [],
      "authorship_tag": "ABX9TyP5w+vki5jIgwucoaXCiax5",
      "include_colab_link": true
    },
    "kernelspec": {
      "name": "python3",
      "display_name": "Python 3"
    },
    "language_info": {
      "name": "python"
    }
  },
  "cells": [
    {
      "cell_type": "markdown",
      "metadata": {
        "id": "view-in-github",
        "colab_type": "text"
      },
      "source": [
        "<a href=\"https://colab.research.google.com/github/burakctl/intr-duction-machine-learning/blob/main/random-forest-tutorial.ipynb\" target=\"_parent\"><img src=\"https://colab.research.google.com/assets/colab-badge.svg\" alt=\"Open In Colab\"/></a>"
      ]
    },
    {
      "cell_type": "code",
      "source": [
        "import pandas as pd\n",
        "import numpy as np\n",
        "#%%  import data\n",
        "\n",
        "data = pd.read_csv(\"data.csv\")\n",
        "data.drop([\"id\",\"Unnamed: 32\"],axis=1,inplace = True)"
      ],
      "metadata": {
        "id": "wZRPcUJv1h-K"
      },
      "execution_count": 3,
      "outputs": []
    },
    {
      "cell_type": "code",
      "source": [
        "# %%\n",
        "data.diagnosis = [ 1 if each == \"M\" else 0 for each in data.diagnosis]\n",
        "y = data.diagnosis.values\n",
        "x_data = data.drop([\"diagnosis\"],axis=1)\n",
        "#%% normalization\n",
        "\n",
        "x = (x_data - np.min(x_data))/(np.max(x_data)-np.min(x_data))"
      ],
      "metadata": {
        "id": "84WWTLfb1iBi"
      },
      "execution_count": 4,
      "outputs": []
    },
    {
      "cell_type": "code",
      "source": [
        "# %% train test split\n",
        "from sklearn.model_selection import train_test_split\n",
        "x_train, x_test,y_train, y_test = train_test_split(x,y,test_size = 0.15,random_state = 42)"
      ],
      "metadata": {
        "id": "UiWdRZd31iEX"
      },
      "execution_count": 5,
      "outputs": []
    },
    {
      "cell_type": "code",
      "source": [
        "#%% decision tree\n",
        "from sklearn.tree import DecisionTreeClassifier\n",
        "dt = DecisionTreeClassifier()\n",
        "dt.fit(x_train,y_train)\n",
        "print(\"decision tree score: \", dt.score(x_test,y_test))"
      ],
      "metadata": {
        "colab": {
          "base_uri": "https://localhost:8080/"
        },
        "id": "Caj12nNT1iIV",
        "outputId": "6f2e1025-b76c-49b7-8fc3-196acb0b6ae6"
      },
      "execution_count": 6,
      "outputs": [
        {
          "output_type": "stream",
          "name": "stdout",
          "text": [
            "decision tree score:  0.9186046511627907\n"
          ]
        }
      ]
    },
    {
      "cell_type": "code",
      "source": [
        "#%%  random forest\n",
        "from sklearn.ensemble import RandomForestClassifier\n",
        "\n",
        "rf = RandomForestClassifier(n_estimators = 100,random_state = 1)\n",
        "rf.fit(x_train,y_train)\n",
        "print(\"random forest algo result: \",rf.score(x_test,y_test))"
      ],
      "metadata": {
        "colab": {
          "base_uri": "https://localhost:8080/"
        },
        "id": "zAGfxTRf1loC",
        "outputId": "b1a0473c-5d24-49ab-c4fe-ee7d2a875ac8"
      },
      "execution_count": 7,
      "outputs": [
        {
          "output_type": "stream",
          "name": "stdout",
          "text": [
            "random forest algo result:  0.9534883720930233\n"
          ]
        }
      ]
    }
  ]
}